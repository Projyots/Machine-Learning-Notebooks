{
 "cells": [
  {
   "cell_type": "code",
   "execution_count": null,
   "metadata": {},
   "outputs": [],
   "source": [
    "# Image Scrapper - Lot of images need to be trained for deep learning models.\n",
    "#                  So to collect images we need to do scrapping."
   ]
  },
  {
   "cell_type": "code",
   "execution_count": 4,
   "metadata": {},
   "outputs": [],
   "source": [
    "#pip install selenium"
   ]
  },
  {
   "cell_type": "code",
   "execution_count": 19,
   "metadata": {},
   "outputs": [],
   "source": [
    "import os\n",
    "import time\n",
    "import requests\n",
    "from selenium import webdriver"
   ]
  },
  {
   "cell_type": "code",
   "execution_count": 20,
   "metadata": {},
   "outputs": [],
   "source": [
    "def fetch_image_urls(query: str, max_links_to_fetch: int, wd: webdriver, sleep_between_interactions: int = 1):\n",
    "    \n",
    "    def scroll_to_end(wd):\n",
    "        wd.execute_script(\"window.scrollTo(0, document.body.scrollHeight);\")\n",
    "        time.sleep(sleep_between_interactions)\n",
    "        \n",
    "    # build Google Query\n",
    "    # {q} - The search element is passed as 'q'.\n",
    "    \n",
    "    search_url = \"http://www.google.com/search?safe=off&site=&tbm=isch&source=hp&q={q}&gs_I=img\"\n",
    "    \n",
    "    # load the page\n",
    "    wd.get(search_url.format(q = query))\n",
    "    \n",
    "    image_urls = set()\n",
    "    image_count = 0\n",
    "    result_start = 0\n",
    "    \n",
    "    while image_count < max_links_to_fetch:\n",
    "        \n",
    "        scroll_to_end(wd)\n",
    "        \n",
    "        # get all images thumbnail\n",
    "        \n",
    "        thumbnail_results = wd.find_elements_by_css_selector('img.Q4LuWd')\n",
    "        number_results = len(thumbnail_results)\n",
    "        \n",
    "        print(f\"Found : {number_results} search results. Extracting links from {result_start}:{number_results}\")\n",
    "        \n",
    "        for img in thumbnail_results[result_start:number_results]:\n",
    "            \n",
    "            # try to click on every thumbnail so that we can get the image behind it\n",
    "            \n",
    "            try:\n",
    "                \n",
    "                img.click()\n",
    "                time.sleep(sleep_between_interactions)\n",
    "            except Exception:\n",
    "                continue\n",
    "                \n",
    "            # Extract Image urls\n",
    "            \n",
    "            actual_images = wd.find_elements_by_css_selector('img.n3VNCb')\n",
    "            for actual_image in actual_images:\n",
    "                if actual_image.get_attribute('src') and 'http' in actual_image.get_attribute('src'):\n",
    "                    image_urls.add(actual_image.get_attribute('src'))\n",
    "                    \n",
    "            image_count = len(image_urls)\n",
    "            \n",
    "            if len(image_urls) >= max_links_to_fetch:\n",
    "                print(f\"Found : {len(image_urls)} image links, done!\")\n",
    "                break\n",
    "        else:\n",
    "            print(f\"Found: \", len(image_urls),\"image links, looking for more\")\n",
    "            time.sleep(30)\n",
    "            return\n",
    "            load_more_button = wd.find_elements_by_css_selector(\".mye4qd\")\n",
    "            if load_more_button:\n",
    "                wd.execute_script(\"document.querySelector('.mye4qd').click();\")\n",
    "                \n",
    "        # move the results startpoint further down\n",
    "        \n",
    "        results_starts = len(thumbnail_results)\n",
    "        \n",
    "    return image_urls    "
   ]
  },
  {
   "cell_type": "code",
   "execution_count": 21,
   "metadata": {},
   "outputs": [],
   "source": [
    "def persist_image(folder_path: str, url:str, counter):\n",
    "    \n",
    "    try:\n",
    "        image_content = requests.get(url).content\n",
    "    \n",
    "    except Exception as e:        \n",
    "        print(f\"Error - Could not download {url} - {e}\")\n",
    "    \n",
    "    try:\n",
    "        f = open(os.path.join(folder_path, 'jpg' + \"_\" + str(counter) + \".jpg\"), 'wb' )\n",
    "        f.write(image_content)\n",
    "        f.close()\n",
    "        \n",
    "        print(f\"Success-saved {url} -as {folder_path}\")\n",
    "    except Exception as e:\n",
    "        print(f\"ERROR- Could not save {url} - {e}\")\n",
    "        \n",
    "        \n",
    "    "
   ]
  },
  {
   "cell_type": "code",
   "execution_count": 22,
   "metadata": {},
   "outputs": [],
   "source": [
    "def search_and_download(search_term: str, driver_path:str, target_path = './images', number_images=10):\n",
    "    \n",
    "    target_folder = os.path.join(target_path,'_'.join(search_term.lower().split('.'))) # Make the image name inside images with the search string\n",
    "    \n",
    "    if not os.path.exists(target_folder):\n",
    "        os.makedirs(target_folder)\n",
    "        \n",
    "    with webdriver.Chrome(executable_path = driver_path) as wd:\n",
    "        res = fetch_image_urls(search_term, number_images,wd = wd, sleep_between_interactions=0.5)\n",
    "        \n",
    "    counter = 0\n",
    "    for elem in res:\n",
    "        persist_image(target_folder, elem, counter)\n",
    "        counter += 1"
   ]
  },
  {
   "cell_type": "code",
   "execution_count": 23,
   "metadata": {},
   "outputs": [
    {
     "name": "stdout",
     "output_type": "stream",
     "text": [
      "Found : 100 search results. Extracting links from 0:100\n",
      "Found : 10 image links, done!\n",
      "Success-saved https://cdn1.vectorstock.com/i/1000x1000/96/55/red-apple-vector-679655.jpg -as ./images\\apple\n",
      "Success-saved https://thumbor.forbes.com/thumbor/fit-in/416x416/filters%3Aformat%28jpg%29/https%3A%2F%2Fspecials-images.forbesimg.com%2Fimageserve%2F5c13d14731358e5b4339c564%2F0x0.jpg%3Fbackground%3D000000%26cropX1%3D0%26cropX2%3D416%26cropY1%3D0%26cropY2%3D416 -as ./images\\apple\n",
      "Success-saved https://asset.swarovski.com/images/$size_1450/t_swa103/b_rgb:fafafa,c_scale,dpr_3.0,f_auto,w_500/5491974_png/red-apple-swarovski-5491974.png -as ./images\\apple\n",
      "Success-saved https://yt3.ggpht.com/a/AATXAJzLJovKyZ7JLdndJ5foqqFL-Xt8Zm28UtEuFRW2Gg=s900-c-k-c0xffffffff-no-rj-mo -as ./images\\apple\n",
      "Success-saved https://pbs.twimg.com/profile_images/1283958620359516160/p7zz5dxZ_400x400.jpg -as ./images\\apple\n",
      "Success-saved https://ichef.bbci.co.uk/news/1024/cpsprodpb/692A/production/_112922962_apple.jpg -as ./images\\apple\n",
      "Success-saved https://www.91-img.com/pictures/136139-v1-apple-iphone-12-mobile-phone-large-1.jpg?tr=q-60 -as ./images\\apple\n",
      "Success-saved https://www.apple.com/ac/structured-data/images/open_graph_logo.png?202009141448 -as ./images\\apple\n",
      "Success-saved https://5.imimg.com/data5/YY/EN/MY-8155364/fresh-apple-500x500.jpg -as ./images\\apple\n",
      "Success-saved https://www.apple.com/ac/structured-data/images/knowledge_graph_logo.png?202009141448 -as ./images\\apple\n"
     ]
    }
   ],
   "source": [
    "DRIVER_PATH = r'C:\\Users\\pRoJyot\\Downloads\\Programs\\chromedriver.exe'\n",
    "search_term = 'apple'\n",
    "\n",
    "search_and_download(search_term=search_term, driver_path=DRIVER_PATH)\n",
    "\n"
   ]
  },
  {
   "cell_type": "code",
   "execution_count": null,
   "metadata": {},
   "outputs": [],
   "source": []
  }
 ],
 "metadata": {
  "kernelspec": {
   "display_name": "Python 3",
   "language": "python",
   "name": "python3"
  },
  "language_info": {
   "codemirror_mode": {
    "name": "ipython",
    "version": 3
   },
   "file_extension": ".py",
   "mimetype": "text/x-python",
   "name": "python",
   "nbconvert_exporter": "python",
   "pygments_lexer": "ipython3",
   "version": "3.7.4"
  }
 },
 "nbformat": 4,
 "nbformat_minor": 2
}
